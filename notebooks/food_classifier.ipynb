{
  "nbformat": 4,
  "nbformat_minor": 0,
  "metadata": {
    "colab": {
      "name": "food_classifier.ipynb",
      "provenance": [],
      "collapsed_sections": [],
      "include_colab_link": true
    },
    "kernelspec": {
      "name": "python3",
      "display_name": "Python 3"
    },
    "accelerator": "GPU"
  },
  "cells": [
    {
      "cell_type": "markdown",
      "metadata": {
        "id": "view-in-github",
        "colab_type": "text"
      },
      "source": [
        "<a href=\"https://colab.research.google.com/github/AnandaIlyasa/bangkit-capstone-bahanbaku/blob/using-34-local-food-daatset/notebooks/food_classifier.ipynb\" target=\"_parent\"><img src=\"https://colab.research.google.com/assets/colab-badge.svg\" alt=\"Open In Colab\"/></a>"
      ]
    },
    {
      "cell_type": "markdown",
      "source": [
        "Import modules"
      ],
      "metadata": {
        "id": "WI1OiwZLWKBl"
      }
    },
    {
      "metadata": {
        "id": "suJ5vUhtcK69"
      },
      "cell_type": "code",
      "source": [
        "from __future__ import absolute_import, division, print_function\n",
        "\n",
        "import tensorflow as tf\n",
        "\n",
        "import tensorflow.keras.backend as K\n",
        "from tensorflow.keras.models import load_model\n",
        "from tensorflow.keras.preprocessing import image\n",
        "from tensorflow.keras.applications.efficientnet import EfficientNetB7\n",
        "from tensorflow.keras.models import Model, Sequential\n",
        "from tensorflow.keras.layers import Flatten, Dense, Dropout\n",
        "from tensorflow.keras.layers import GlobalAveragePooling2D\n",
        "from tensorflow.keras.preprocessing.image import ImageDataGenerator\n",
        "from tensorflow.keras.callbacks import Callback, EarlyStopping, ReduceLROnPlateau\n",
        "from tensorflow.keras import callbacks\n",
        "from tensorflow.keras.optimizers import Adam\n",
        "\n",
        "from tensorflow.keras import models\n",
        "from tensorflow.keras.applications.efficientnet import preprocess_input\n",
        "\n",
        "import cv2\n",
        "import os\n",
        "import random\n",
        "import collections\n",
        "from collections import defaultdict\n",
        "\n",
        "from shutil import copy\n",
        "from shutil import copytree, rmtree\n",
        "\n",
        "import numpy as np\n",
        "\n",
        "import matplotlib.pyplot as plt\n",
        "import matplotlib.image as img\n",
        "%matplotlib inline"
      ],
      "execution_count": 1,
      "outputs": []
    },
    {
      "cell_type": "markdown",
      "source": [
        "Download additional Indonesian food dataset from kaggle"
      ],
      "metadata": {
        "id": "21v-F4lQaiuR"
      }
    },
    {
      "cell_type": "code",
      "source": [
        "! pip -q install kaggle"
      ],
      "metadata": {
        "id": "MpVgZj-flBg4"
      },
      "execution_count": 9,
      "outputs": []
    },
    {
      "cell_type": "code",
      "source": [
        "! mkdir ~/.kaggle"
      ],
      "metadata": {
        "id": "YBW11KWellD2"
      },
      "execution_count": 10,
      "outputs": []
    },
    {
      "cell_type": "markdown",
      "source": [
        "Required to upload kaggle.json file first to current directory (/content)\n",
        "-- kaggle.json file contains api token and can be downloaded from kaggle acount page"
      ],
      "metadata": {
        "id": "cHBByo2wa2N4"
      }
    },
    {
      "cell_type": "code",
      "source": [
        "! cp kaggle.json ~/.kaggle/"
      ],
      "metadata": {
        "id": "KpEQrC033Ha7"
      },
      "execution_count": 11,
      "outputs": []
    },
    {
      "cell_type": "code",
      "source": [
        "! chmod 600 ~/.kaggle/kaggle.json"
      ],
      "metadata": {
        "id": "FSaNJzlh3Sc0"
      },
      "execution_count": 12,
      "outputs": []
    },
    {
      "cell_type": "markdown",
      "source": [
        "Download indonesian-food dataset from kaggle and extract"
      ],
      "metadata": {
        "id": "LIBp0l6tccFy"
      }
    },
    {
      "cell_type": "code",
      "source": [
        "! kaggle datasets download -d arizbw/traditional-food-knowledge-of-indonesia"
      ],
      "metadata": {
        "colab": {
          "base_uri": "https://localhost:8080/"
        },
        "id": "sz54_XACilUL",
        "outputId": "f9541886-4a4a-4904-b69f-732a227c2b03"
      },
      "execution_count": 13,
      "outputs": [
        {
          "output_type": "stream",
          "name": "stdout",
          "text": [
            "Downloading traditional-food-knowledge-of-indonesia.zip to /content\n",
            "100% 3.10G/3.10G [00:31<00:00, 101MB/s]\n",
            "100% 3.10G/3.10G [00:31<00:00, 107MB/s]\n"
          ]
        }
      ]
    },
    {
      "cell_type": "code",
      "source": [
        "! unzip -q /content/traditional-food-knowledge-of-indonesia.zip"
      ],
      "metadata": {
        "id": "EEDPnP5U2fBU"
      },
      "execution_count": 14,
      "outputs": []
    },
    {
      "cell_type": "markdown",
      "source": [
        "Check how many data images are there"
      ],
      "metadata": {
        "id": "B4wTLeYEahDj"
      }
    },
    {
      "cell_type": "code",
      "source": [
        "print(len(os.listdir('/content/food-tfk-images')))"
      ],
      "metadata": {
        "colab": {
          "base_uri": "https://localhost:8080/"
        },
        "id": "AjkIVAH5Z4aV",
        "outputId": "89a83a66-c564-4581-b4a0-a3a18c9193f4"
      },
      "execution_count": 15,
      "outputs": [
        {
          "output_type": "stream",
          "name": "stdout",
          "text": [
            "1645\n"
          ]
        }
      ]
    },
    {
      "cell_type": "markdown",
      "source": [
        "Check what is data in csv file look like"
      ],
      "metadata": {
        "id": "s4vR2pMpaQKg"
      }
    },
    {
      "cell_type": "code",
      "source": [
        "with open('/content/dev.csv', 'r') as txt:\n",
        "    paths = [read.strip() for read in txt.readlines()]\n",
        "    print(len(paths))\n",
        "    print(paths[1].split(',')[:3])"
      ],
      "metadata": {
        "colab": {
          "base_uri": "https://localhost:8080/"
        },
        "id": "m-L77TmrNPHb",
        "outputId": "0d695459-500a-45bc-98e0-c2d05ee04aad"
      },
      "execution_count": 16,
      "outputs": [
        {
          "output_type": "stream",
          "name": "stdout",
          "text": [
            "165\n",
            "['IMG_8882.jpg', '1', 'gulai-ikan-mas']\n"
          ]
        }
      ]
    },
    {
      "cell_type": "markdown",
      "source": [
        "Preparing data -- split images to train and test folder based on train.csv, dev.csv, and test.csv file"
      ],
      "metadata": {
        "id": "aX9MWVnqXYwE"
      }
    },
    {
      "metadata": {
        "id": "xB0XMUX_5KMQ"
      },
      "cell_type": "code",
      "source": [
        "def prepare_data(filepath, src, dest):\n",
        "  image_classes = defaultdict(list)\n",
        "  with open(filepath, 'r') as csv:\n",
        "      csv.readline()\n",
        "      lines = [read.strip() for read in csv.readlines()]\n",
        "      for line in lines:\n",
        "        file_desc = line.split(',')[:3]\n",
        "        image_classes[file_desc[2]].append(file_desc[0])\n",
        "\n",
        "  if not os.path.exists(dest):\n",
        "    os.makedirs(dest)\n",
        "\n",
        "  for food in image_classes.keys():\n",
        "    if not os.path.exists(os.path.join(dest,food)):\n",
        "      os.makedirs(os.path.join(dest,food))\n",
        "    for i in image_classes[food]:\n",
        "      copy(os.path.join(src,i), os.path.join(dest,food,i))\n",
        "  print(\"Copying Done!\")\n",
        "  # return image_classes"
      ],
      "execution_count": 51,
      "outputs": []
    },
    {
      "cell_type": "code",
      "source": [
        "! rm -R ./dataset"
      ],
      "metadata": {
        "id": "2dWgyZwTYjye"
      },
      "execution_count": null,
      "outputs": []
    },
    {
      "cell_type": "code",
      "source": [
        "print(\"Creating train data...\")\n",
        "prepare_data('/content/train.csv', '/content/food-tfk-images', '/content/dataset')\n",
        "prepare_data('/content/dev.csv', '/content/food-tfk-images', '/content/dataset')\n",
        "prepare_data('/content/test.csv', '/content/food-tfk-images', '/content/dataset')"
      ],
      "metadata": {
        "colab": {
          "base_uri": "https://localhost:8080/"
        },
        "id": "O9O_zOQ3tiQC",
        "outputId": "10290f94-3853-406b-8c8c-e50705af4005"
      },
      "execution_count": 52,
      "outputs": [
        {
          "output_type": "stream",
          "name": "stdout",
          "text": [
            "Creating train data...\n",
            "Copying Done!\n",
            "Copying Done!\n",
            "Copying Done!\n"
          ]
        }
      ]
    },
    {
      "cell_type": "code",
      "source": [
        "!find ./dataset -type f | wc -l"
      ],
      "metadata": {
        "colab": {
          "base_uri": "https://localhost:8080/"
        },
        "id": "MSOOFEQKVCDz",
        "outputId": "2ff52fbc-ef80-4914-d53f-d7641008b23e"
      },
      "execution_count": 54,
      "outputs": [
        {
          "output_type": "stream",
          "name": "stdout",
          "text": [
            "1643\n"
          ]
        }
      ]
    },
    {
      "cell_type": "markdown",
      "source": [
        "Get food classes from train folder"
      ],
      "metadata": {
        "id": "87KYXluXcyaz"
      }
    },
    {
      "cell_type": "code",
      "source": [
        "food_classes = sorted(os.listdir('./dataset'))"
      ],
      "metadata": {
        "id": "HuxNFfDriHx_"
      },
      "execution_count": 55,
      "outputs": []
    },
    {
      "cell_type": "markdown",
      "source": [
        "Preparing Data (Transform and Load data from directory)"
      ],
      "metadata": {
        "id": "oYsbS0yzfHM-"
      }
    },
    {
      "cell_type": "code",
      "source": [
        "# n_classes,num_epochs, nb_train_samples,nb_validation_samples = 25, 2, train_files, test_files\n",
        "def prepare_data_input_pipeline():\n",
        "  K.clear_session()\n",
        "\n",
        "  img_width, img_height = 150, 150\n",
        "  data_dir = './dataset'\n",
        "\n",
        "  datagen = ImageDataGenerator(\n",
        "      preprocessing_function=preprocess_input,\n",
        "      shear_range=0.2,\n",
        "      validation_split=0.2,\n",
        "      zoom_range=0.2,\n",
        "      horizontal_flip=True)\n",
        "\n",
        "  train_generator = datagen.flow_from_directory(\n",
        "      data_dir,\n",
        "      target_size=(img_height, img_width),\n",
        "      batch_size=30,\n",
        "      subset='training',\n",
        "      class_mode='categorical')\n",
        "\n",
        "  validation_generator = datagen.flow_from_directory(\n",
        "      data_dir,\n",
        "      target_size=(img_height, img_width),\n",
        "      batch_size=10,\n",
        "      subset='validation',\n",
        "      class_mode='categorical')\n",
        "  \n",
        "  return train_generator, validation_generator"
      ],
      "metadata": {
        "id": "E3eeFpFeACzu"
      },
      "execution_count": 56,
      "outputs": []
    },
    {
      "cell_type": "markdown",
      "source": [
        "Load pre-trained model, take some layers from it, and define additional layer on top of it"
      ],
      "metadata": {
        "id": "UQg5rxE0gpNT"
      }
    },
    {
      "metadata": {
        "id": "MS5NI8Py77sA"
      },
      "cell_type": "code",
      "source": [
        "# for layer in inception.layers:\n",
        "#   layer.trainable = False\n",
        "# last_layer = inception.get_layer('mixed7')\n",
        "# last_output = last_layer.output\n",
        "def prepare_model(n_classes):\n",
        "  # bestmodel_path = 'bestmodel_'+str(n_classes)+'class.hdf5'\n",
        "\n",
        "  efficient_net = EfficientNetB7(weights='imagenet', include_top=False, classes=n_classes)\n",
        "  for layer in efficient_net.layers:\n",
        "    layer.trainable = False\n",
        "  last_layer = efficient_net.get_layer('block6a_project_conv')\n",
        "  last_output = last_layer.output\n",
        "\n",
        "  x = last_output\n",
        "  x = GlobalAveragePooling2D()(x)\n",
        "  x = Dense(1024, activation='relu')(x)\n",
        "  x = Dropout(0.3)(x)               \n",
        "  x = Dense(n_classes, activation='softmax')(x) \n",
        "  model = Model(efficient_net.input, x)\n",
        "\n",
        "  optimizer = Adam(learning_rate=0.001)\n",
        "\n",
        "  model.compile(optimizer=optimizer, loss='categorical_crossentropy', metrics=['accuracy'])\n",
        "\n",
        "  return model"
      ],
      "execution_count": 57,
      "outputs": []
    },
    {
      "cell_type": "markdown",
      "source": [
        "Mount google drive"
      ],
      "metadata": {
        "id": "nUxDK-2xhfab"
      }
    },
    {
      "cell_type": "code",
      "source": [
        "from google.colab import drive\n",
        "drive.mount('/content/drive')"
      ],
      "metadata": {
        "id": "V1kXkurx4LLv",
        "outputId": "d1a8e49b-bf27-43eb-dc28-45c23c54fbbb",
        "colab": {
          "base_uri": "https://localhost:8080/"
        }
      },
      "execution_count": 25,
      "outputs": [
        {
          "output_type": "stream",
          "name": "stdout",
          "text": [
            "Mounted at /content/drive\n"
          ]
        }
      ]
    },
    {
      "cell_type": "markdown",
      "source": [
        "Train the model and create checkpoint to continue the training later"
      ],
      "metadata": {
        "id": "kpXkODL4hFgv"
      }
    },
    {
      "cell_type": "code",
      "source": [
        "n_classes = 34 #34\n",
        "\n",
        "train_generator, validation_generator = prepare_data_input_pipeline()\n",
        "\n",
        "model = prepare_model(n_classes)\n",
        "\n",
        "checkpoint = callbacks.ModelCheckpoint('/content/drive/MyDrive/Google_Bangkit/capstone/checkpoint_'+str(n_classes)+'_classes_traiditional', save_best_only=True)\n",
        "\n",
        "history = model.fit(train_generator,\n",
        "                    validation_data=validation_generator,\n",
        "                    epochs=10,\n",
        "                    verbose=1,\n",
        "                    callbacks=[checkpoint])\n",
        "\n",
        "# model.save_weights('weights')\n",
        "# class_map = train_generator.class_indices"
      ],
      "metadata": {
        "colab": {
          "base_uri": "https://localhost:8080/"
        },
        "id": "EE1BRC-JA_wQ",
        "outputId": "b352e009-e0a1-4320-a152-aea62cf419e5"
      },
      "execution_count": null,
      "outputs": [
        {
          "output_type": "stream",
          "name": "stdout",
          "text": [
            "Found 1329 images belonging to 34 classes.\n",
            "Found 314 images belonging to 34 classes.\n",
            "Epoch 1/10\n",
            "45/45 [==============================] - ETA: 0s - loss: 0.9014 - accuracy: 0.8292INFO:tensorflow:Assets written to: /content/drive/MyDrive/Google Bangkit/capstone/checkpoint_34_classes_traiditional/assets\n",
            "45/45 [==============================] - 289s 6s/step - loss: 0.9014 - accuracy: 0.8292 - val_loss: 0.0815 - val_accuracy: 0.9841\n",
            "Epoch 2/10\n",
            "45/45 [==============================] - ETA: 0s - loss: 0.0206 - accuracy: 1.0000INFO:tensorflow:Assets written to: /content/drive/MyDrive/Google Bangkit/capstone/checkpoint_34_classes_traiditional/assets\n",
            "45/45 [==============================] - 263s 6s/step - loss: 0.0206 - accuracy: 1.0000 - val_loss: 0.0289 - val_accuracy: 1.0000\n",
            "Epoch 3/10\n",
            "45/45 [==============================] - ETA: 0s - loss: 0.0081 - accuracy: 1.0000INFO:tensorflow:Assets written to: /content/drive/MyDrive/Google Bangkit/capstone/checkpoint_34_classes_traiditional/assets\n",
            "45/45 [==============================] - 253s 6s/step - loss: 0.0081 - accuracy: 1.0000 - val_loss: 0.0131 - val_accuracy: 1.0000\n",
            "Epoch 4/10\n",
            "45/45 [==============================] - ETA: 0s - loss: 0.0055 - accuracy: 1.0000INFO:tensorflow:Assets written to: /content/drive/MyDrive/Google Bangkit/capstone/checkpoint_34_classes_traiditional/assets\n",
            "45/45 [==============================] - 258s 6s/step - loss: 0.0055 - accuracy: 1.0000 - val_loss: 0.0121 - val_accuracy: 1.0000\n",
            "Epoch 5/10\n",
            "45/45 [==============================] - ETA: 0s - loss: 0.0042 - accuracy: 1.0000INFO:tensorflow:Assets written to: /content/drive/MyDrive/Google Bangkit/capstone/checkpoint_34_classes_traiditional/assets\n",
            "45/45 [==============================] - 253s 6s/step - loss: 0.0042 - accuracy: 1.0000 - val_loss: 0.0093 - val_accuracy: 1.0000\n",
            "Epoch 6/10\n",
            "45/45 [==============================] - ETA: 0s - loss: 0.0030 - accuracy: 1.0000INFO:tensorflow:Assets written to: /content/drive/MyDrive/Google Bangkit/capstone/checkpoint_34_classes_traiditional/assets\n",
            "45/45 [==============================] - 252s 6s/step - loss: 0.0030 - accuracy: 1.0000 - val_loss: 0.0061 - val_accuracy: 1.0000\n",
            "Epoch 7/10\n",
            "29/45 [==================>...........] - ETA: 44s - loss: 0.0022 - accuracy: 1.0000"
          ]
        }
      ]
    },
    {
      "cell_type": "markdown",
      "source": [
        "Continue training from the checkpoint"
      ],
      "metadata": {
        "id": "3rLxC3TihWEk"
      }
    },
    {
      "cell_type": "code",
      "source": [
        "# continue training\n",
        "n_classes=34\n",
        "train_generator, validation_generator = prepare_data_input_pipeline()\n",
        "checkpoint = callbacks.ModelCheckpoint('/content/drive/MyDrive/Google_Bangkit/capstone/checkpoint_'+str(n_classes)+'_classes_traiditional', save_best_only=True)\n",
        "loaded_model = load_model('/content/drive/MyDrive/Google_Bangkit/capstone/checkpoint_'+str(n_classes)+'_classes_traiditional') # checkpoint folder from gdrive\n",
        "new_history = loaded_model.fit(train_generator,\n",
        "                    validation_data=validation_generator,\n",
        "                    epochs=10,\n",
        "                    verbose=1,\n",
        "                    callbacks=[checkpoint])"
      ],
      "metadata": {
        "colab": {
          "base_uri": "https://localhost:8080/"
        },
        "id": "nVHpJCB_0Fxm",
        "outputId": "670c4d7f-f082-428f-b4a7-e9c1900c4fa2"
      },
      "execution_count": null,
      "outputs": [
        {
          "output_type": "stream",
          "name": "stdout",
          "text": [
            "Found 23176 images belonging to 25 classes.\n",
            "Found 901 images belonging to 25 classes.\n",
            "Epoch 1/10\n",
            "773/773 [==============================] - ETA: 0s - loss: 1.6764 - accuracy: 0.5010INFO:tensorflow:Assets written to: /content/drive/MyDrive/Google Bangkit/capstone/checkpoint_25_classes/assets\n",
            "773/773 [==============================] - 247s 299ms/step - loss: 1.6764 - accuracy: 0.5010 - val_loss: 1.8433 - val_accuracy: 0.4395\n",
            "Epoch 2/10\n",
            "773/773 [==============================] - ETA: 0s - loss: 1.6670 - accuracy: 0.4969INFO:tensorflow:Assets written to: /content/drive/MyDrive/Google Bangkit/capstone/checkpoint_25_classes/assets\n",
            "773/773 [==============================] - 228s 295ms/step - loss: 1.6670 - accuracy: 0.4969 - val_loss: 1.8162 - val_accuracy: 0.4495\n",
            "Epoch 3/10\n",
            "773/773 [==============================] - 197s 255ms/step - loss: 1.6548 - accuracy: 0.5072 - val_loss: 1.8653 - val_accuracy: 0.4229\n",
            "Epoch 4/10\n",
            "773/773 [==============================] - 197s 255ms/step - loss: 1.6600 - accuracy: 0.5050 - val_loss: 1.8602 - val_accuracy: 0.4284\n",
            "Epoch 5/10\n",
            "773/773 [==============================] - ETA: 0s - loss: 1.6541 - accuracy: 0.5046INFO:tensorflow:Assets written to: /content/drive/MyDrive/Google Bangkit/capstone/checkpoint_25_classes/assets\n",
            "773/773 [==============================] - 221s 286ms/step - loss: 1.6541 - accuracy: 0.5046 - val_loss: 1.8052 - val_accuracy: 0.4573\n",
            "Epoch 6/10\n",
            "773/773 [==============================] - 198s 256ms/step - loss: 1.6514 - accuracy: 0.5064 - val_loss: 1.8102 - val_accuracy: 0.4395\n",
            "Epoch 7/10\n",
            "773/773 [==============================] - ETA: 0s - loss: 1.6412 - accuracy: 0.5117INFO:tensorflow:Assets written to: /content/drive/MyDrive/Google Bangkit/capstone/checkpoint_25_classes/assets\n",
            "773/773 [==============================] - 222s 288ms/step - loss: 1.6412 - accuracy: 0.5117 - val_loss: 1.7843 - val_accuracy: 0.4517\n",
            "Epoch 8/10\n",
            "773/773 [==============================] - 198s 257ms/step - loss: 1.6462 - accuracy: 0.5094 - val_loss: 1.7912 - val_accuracy: 0.4462\n",
            "Epoch 9/10\n",
            "773/773 [==============================] - 198s 256ms/step - loss: 1.6455 - accuracy: 0.5078 - val_loss: 1.8183 - val_accuracy: 0.4517\n",
            "Epoch 10/10\n",
            "773/773 [==============================] - 197s 255ms/step - loss: 1.6348 - accuracy: 0.5094 - val_loss: 1.8078 - val_accuracy: 0.4517\n"
          ]
        }
      ]
    },
    {
      "cell_type": "code",
      "source": [
        "# model.save('/content/drive/MyDrive/Colab Notebooks/25_classes')"
      ],
      "metadata": {
        "colab": {
          "base_uri": "https://localhost:8080/"
        },
        "id": "Nz8-dPXWo3RF",
        "outputId": "2660c4b2-7d44-41d9-e0a6-7384df0d0df8"
      },
      "execution_count": null,
      "outputs": [
        {
          "output_type": "stream",
          "name": "stdout",
          "text": [
            "INFO:tensorflow:Assets written to: /content/drive/MyDrive/Colab Notebooks/25_classes/assets\n"
          ]
        }
      ]
    },
    {
      "cell_type": "code",
      "source": [
        "!cp -r $(pwd)/checkpoint_25 /content/drive/MyDrive/Colab\\ Notebooks"
      ],
      "metadata": {
        "id": "74lkc6Vl38Ky"
      },
      "execution_count": null,
      "outputs": []
    },
    {
      "metadata": {
        "id": "KbDzLAHGpJXQ"
      },
      "cell_type": "markdown",
      "source": [
        "# Visualize the accuracy and loss plots"
      ]
    },
    {
      "metadata": {
        "id": "SjRm_AWZpPZm",
        "colab": {
          "base_uri": "https://localhost:8080/",
          "height": 573
        },
        "outputId": "7f62e0bf-9b81-4482-a7d8-da981eba9cec"
      },
      "cell_type": "code",
      "source": [
        "def plot_accuracy(history,title):\n",
        "    plt.title(title)\n",
        "    plt.plot(history.history['accuracy']) # change acc to accuracy if testing TF 2.0\n",
        "    plt.plot(history.history['val_accuracy']) # change val_accuracy if testing TF 2.0\n",
        "    plt.ylabel('accuracy')\n",
        "    plt.xlabel('epoch')\n",
        "    plt.legend(['train_accuracy', 'validation_accuracy'], loc='best')\n",
        "    plt.show()\n",
        "\n",
        "\n",
        "def plot_loss(history,title):\n",
        "    plt.title(title)\n",
        "    plt.plot(history.history['loss'])\n",
        "    plt.plot(history.history['val_loss'])\n",
        "    plt.ylabel('loss')\n",
        "    plt.xlabel('epoch')\n",
        "    plt.legend(['train_loss', 'validation_loss'], loc='best')\n",
        "    plt.show()\n",
        "\n",
        "plot_accuracy(history,'FOOD101-Inceptionv3')\n",
        "plot_loss(history,'FOOD101-Inceptionv3')"
      ],
      "execution_count": null,
      "outputs": [
        {
          "output_type": "display_data",
          "data": {
            "text/plain": [
              "<Figure size 432x288 with 1 Axes>"
            ],
            "image/png": "[encoded data removed]"
          },
          "metadata": {
            "needs_background": "light"
          }
        },
        {
          "output_type": "display_data",
          "data": {
            "text/plain": [
              "<Figure size 432x288 with 1 Axes>"
            ],
            "image/png": "[encoded data removed]"
          },
          "metadata": {
            "needs_background": "light"
          }
        }
      ]
    }
  ]
}